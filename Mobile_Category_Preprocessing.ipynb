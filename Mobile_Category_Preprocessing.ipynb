{
 "cells": [
  {
   "cell_type": "markdown",
   "metadata": {},
   "source": [
    "# Preprocessing for Mobile Category"
   ]
  },
  {
   "cell_type": "markdown",
   "metadata": {},
   "source": [
    "The preprocessing for other categories, fashion and beauty, is the same as the mobile category. Hence, we will just show the preprocessing steps for mobile category, to avoid long repetition of the code. "
   ]
  },
  {
   "cell_type": "code",
   "execution_count": 1,
   "metadata": {},
   "outputs": [],
   "source": [
    "# Import the relevant libraries\n",
    "import numpy as np\n",
    "import pandas as pd\n",
    "import os\n",
    "import shutil\n",
    "from tqdm import tqdm\n",
    "import glob"
   ]
  },
  {
   "cell_type": "code",
   "execution_count": 3,
   "metadata": {},
   "outputs": [],
   "source": [
    "# Read the csv file into train dataframe\n",
    "train=pd.read_csv('ndsc_dataset/train.csv')"
   ]
  },
  {
   "cell_type": "code",
   "execution_count": 4,
   "metadata": {},
   "outputs": [
    {
     "name": "stdout",
     "output_type": "stream",
     "text": [
      "We are expecting 666615 images in the entire dataset\n"
     ]
    }
   ],
   "source": [
    "train['Full Category'], train['Filename'] = train['image_path'].str.split('/', 1).str\n",
    "train.drop('image_path', axis=1, inplace=True)\n",
    "print(\"We are expecting\", train.shape[0],\"images in the entire dataset\")"
   ]
  },
  {
   "cell_type": "code",
   "execution_count": 5,
   "metadata": {},
   "outputs": [
    {
     "data": {
      "text/plain": [
       "array(['beauty_image', 'fashion_image', 'mobile_image'], dtype=object)"
      ]
     },
     "execution_count": 5,
     "metadata": {},
     "output_type": "execute_result"
    }
   ],
   "source": [
    "train['Full Category'].unique()"
   ]
  },
  {
   "cell_type": "markdown",
   "metadata": {},
   "source": [
    "A brief look shows there are three categories in the data"
   ]
  },
  {
   "cell_type": "code",
   "execution_count": 6,
   "metadata": {},
   "outputs": [
    {
     "name": "stdout",
     "output_type": "stream",
     "text": [
      "We are expecting 160330 images in the mobile training dataset\n"
     ]
    }
   ],
   "source": [
    "mobile=train[train['Full Category']=='mobile_image']\n",
    "print(\"We are expecting\", mobile.shape[0],\"images in the mobile training dataset\")"
   ]
  },
  {
   "cell_type": "markdown",
   "metadata": {},
   "source": [
    "### In summary, an overview of the dataset shows there are 666615 images in the entire dataset. And mobile category consist of 160330 images."
   ]
  },
  {
   "cell_type": "code",
   "execution_count": 7,
   "metadata": {},
   "outputs": [
    {
     "data": {
      "text/html": [
       "<div>\n",
       "<style scoped>\n",
       "    .dataframe tbody tr th:only-of-type {\n",
       "        vertical-align: middle;\n",
       "    }\n",
       "\n",
       "    .dataframe tbody tr th {\n",
       "        vertical-align: top;\n",
       "    }\n",
       "\n",
       "    .dataframe thead th {\n",
       "        text-align: right;\n",
       "    }\n",
       "</style>\n",
       "<table border=\"1\" class=\"dataframe\">\n",
       "  <thead>\n",
       "    <tr style=\"text-align: right;\">\n",
       "      <th></th>\n",
       "      <th>itemid</th>\n",
       "      <th>title</th>\n",
       "      <th>Category</th>\n",
       "      <th>Full Category</th>\n",
       "      <th>Filename</th>\n",
       "    </tr>\n",
       "  </thead>\n",
       "  <tbody>\n",
       "    <tr>\n",
       "      <th>522051</th>\n",
       "      <td>1559229230</td>\n",
       "      <td>jika minat silahkan wa 0831 4044 8453 promo di...</td>\n",
       "      <td>31</td>\n",
       "      <td>mobile_image</td>\n",
       "      <td>00018defe03935e545929201b8eec50a.jpg</td>\n",
       "    </tr>\n",
       "    <tr>\n",
       "      <th>596952</th>\n",
       "      <td>1022569612</td>\n",
       "      <td>iphone 5s 32gb grey ibox tam ses trikomsel gar...</td>\n",
       "      <td>31</td>\n",
       "      <td>mobile_image</td>\n",
       "      <td>0003ae5382360f19c88e83bc3d13e93d.jpg</td>\n",
       "    </tr>\n",
       "    <tr>\n",
       "      <th>559422</th>\n",
       "      <td>1746034004</td>\n",
       "      <td>promo big sale mito a19 4g 5 lte 2 16gb ready ...</td>\n",
       "      <td>46</td>\n",
       "      <td>mobile_image</td>\n",
       "      <td>0004390752e0372ebe568d929d463837.jpg</td>\n",
       "    </tr>\n",
       "    <tr>\n",
       "      <th>545052</th>\n",
       "      <td>1258509983</td>\n",
       "      <td>flexible home tombol iphone 5s putih best seller</td>\n",
       "      <td>31</td>\n",
       "      <td>mobile_image</td>\n",
       "      <td>000445556b7323a60a2e8a0a7525d77a.jpg</td>\n",
       "    </tr>\n",
       "    <tr>\n",
       "      <th>554871</th>\n",
       "      <td>978529440</td>\n",
       "      <td>microsoft surface pro 4 ci5 6300u 8gb 256gb ss...</td>\n",
       "      <td>35</td>\n",
       "      <td>mobile_image</td>\n",
       "      <td>000477490f1e24c1aa9933b88fad14f4.jpg</td>\n",
       "    </tr>\n",
       "  </tbody>\n",
       "</table>\n",
       "</div>"
      ],
      "text/plain": [
       "            itemid                                              title  \\\n",
       "522051  1559229230  jika minat silahkan wa 0831 4044 8453 promo di...   \n",
       "596952  1022569612  iphone 5s 32gb grey ibox tam ses trikomsel gar...   \n",
       "559422  1746034004  promo big sale mito a19 4g 5 lte 2 16gb ready ...   \n",
       "545052  1258509983   flexible home tombol iphone 5s putih best seller   \n",
       "554871   978529440  microsoft surface pro 4 ci5 6300u 8gb 256gb ss...   \n",
       "\n",
       "        Category Full Category                              Filename  \n",
       "522051        31  mobile_image  00018defe03935e545929201b8eec50a.jpg  \n",
       "596952        31  mobile_image  0003ae5382360f19c88e83bc3d13e93d.jpg  \n",
       "559422        46  mobile_image  0004390752e0372ebe568d929d463837.jpg  \n",
       "545052        31  mobile_image  000445556b7323a60a2e8a0a7525d77a.jpg  \n",
       "554871        35  mobile_image  000477490f1e24c1aa9933b88fad14f4.jpg  "
      ]
     },
     "execution_count": 7,
     "metadata": {},
     "output_type": "execute_result"
    }
   ],
   "source": [
    "mobile=mobile.sort_values(by=['Filename'], ascending = True)\n",
    "mobile.head()"
   ]
  },
  {
   "cell_type": "markdown",
   "metadata": {},
   "source": [
    "### Import mobile images from the dataset"
   ]
  },
  {
   "cell_type": "markdown",
   "metadata": {},
   "source": [
    "Below we import the mobile images from the dataset given by Shopee, and we filter out those that are non-test images from the training images. "
   ]
  },
  {
   "cell_type": "code",
   "execution_count": 8,
   "metadata": {},
   "outputs": [
    {
     "name": "stdout",
     "output_type": "stream",
     "text": [
      "There are a total of 200747 mobile images in the mobile dataset\n"
     ]
    }
   ],
   "source": [
    "#change your file name to the directory that all your images are stored into\n",
    "mobile_img=[]\n",
    "os.chdir(\"/Users/matthewhan/Desktop/NDSC/mobile_image\")\n",
    "for file in glob.glob(\"*.jpg\"):\n",
    "    mobile_img.append(file)\n",
    "\n",
    "print(\"There are a total of\", len(mobile_img),\"mobile images in the mobile dataset\")"
   ]
  },
  {
   "cell_type": "code",
   "execution_count": 9,
   "metadata": {},
   "outputs": [
    {
     "data": {
      "text/html": [
       "<div>\n",
       "<style scoped>\n",
       "    .dataframe tbody tr th:only-of-type {\n",
       "        vertical-align: middle;\n",
       "    }\n",
       "\n",
       "    .dataframe tbody tr th {\n",
       "        vertical-align: top;\n",
       "    }\n",
       "\n",
       "    .dataframe thead th {\n",
       "        text-align: right;\n",
       "    }\n",
       "</style>\n",
       "<table border=\"1\" class=\"dataframe\">\n",
       "  <thead>\n",
       "    <tr style=\"text-align: right;\">\n",
       "      <th></th>\n",
       "      <th>Filename</th>\n",
       "    </tr>\n",
       "  </thead>\n",
       "  <tbody>\n",
       "    <tr>\n",
       "      <th>28474</th>\n",
       "      <td>0000456f97a4805ba4960084ffc8c058.jpg</td>\n",
       "    </tr>\n",
       "    <tr>\n",
       "      <th>171220</th>\n",
       "      <td>00018defe03935e545929201b8eec50a.jpg</td>\n",
       "    </tr>\n",
       "    <tr>\n",
       "      <th>93034</th>\n",
       "      <td>0003ae5382360f19c88e83bc3d13e93d.jpg</td>\n",
       "    </tr>\n",
       "    <tr>\n",
       "      <th>124412</th>\n",
       "      <td>0003cb2b0c95619f009df611f77e0cf1.jpg</td>\n",
       "    </tr>\n",
       "    <tr>\n",
       "      <th>48364</th>\n",
       "      <td>0004390752e0372ebe568d929d463837.jpg</td>\n",
       "    </tr>\n",
       "  </tbody>\n",
       "</table>\n",
       "</div>"
      ],
      "text/plain": [
       "                                    Filename\n",
       "28474   0000456f97a4805ba4960084ffc8c058.jpg\n",
       "171220  00018defe03935e545929201b8eec50a.jpg\n",
       "93034   0003ae5382360f19c88e83bc3d13e93d.jpg\n",
       "124412  0003cb2b0c95619f009df611f77e0cf1.jpg\n",
       "48364   0004390752e0372ebe568d929d463837.jpg"
      ]
     },
     "execution_count": 9,
     "metadata": {},
     "output_type": "execute_result"
    }
   ],
   "source": [
    "mobile_img_df=pd.DataFrame(mobile_img)\n",
    "mobile_img_df.columns=['Filename']\n",
    "mobile_img_df = mobile_img_df.sort_values(by=['Filename'], ascending = True)\n",
    "mobile_img_df.head()"
   ]
  },
  {
   "cell_type": "markdown",
   "metadata": {},
   "source": [
    "### Merging the dataframes"
   ]
  },
  {
   "cell_type": "markdown",
   "metadata": {},
   "source": [
    "We do a right join to match the two dataframes, so that we know which are the training images and the test images."
   ]
  },
  {
   "cell_type": "code",
   "execution_count": 10,
   "metadata": {},
   "outputs": [
    {
     "name": "stdout",
     "output_type": "stream",
     "text": [
      "Number of train images: 160330\n"
     ]
    }
   ],
   "source": [
    "mobile_comb=pd.merge(mobile, mobile_img_df, on=['Filename'], how='right')\n",
    "mobile_comb.shape\n",
    "# Get the training images\n",
    "train_mobile=mobile_comb.dropna()\n",
    "print(\"Number of train images:\", train_mobile.shape[0])"
   ]
  },
  {
   "cell_type": "code",
   "execution_count": 11,
   "metadata": {},
   "outputs": [
    {
     "data": {
      "text/html": [
       "<div>\n",
       "<style scoped>\n",
       "    .dataframe tbody tr th:only-of-type {\n",
       "        vertical-align: middle;\n",
       "    }\n",
       "\n",
       "    .dataframe tbody tr th {\n",
       "        vertical-align: top;\n",
       "    }\n",
       "\n",
       "    .dataframe thead th {\n",
       "        text-align: right;\n",
       "    }\n",
       "</style>\n",
       "<table border=\"1\" class=\"dataframe\">\n",
       "  <thead>\n",
       "    <tr style=\"text-align: right;\">\n",
       "      <th></th>\n",
       "      <th>itemid</th>\n",
       "      <th>title</th>\n",
       "      <th>Category</th>\n",
       "      <th>Full Category</th>\n",
       "      <th>Filename</th>\n",
       "    </tr>\n",
       "  </thead>\n",
       "  <tbody>\n",
       "    <tr>\n",
       "      <th>0</th>\n",
       "      <td>1.559229e+09</td>\n",
       "      <td>jika minat silahkan wa 0831 4044 8453 promo di...</td>\n",
       "      <td>31.0</td>\n",
       "      <td>mobile_image</td>\n",
       "      <td>00018defe03935e545929201b8eec50a.jpg</td>\n",
       "    </tr>\n",
       "    <tr>\n",
       "      <th>1</th>\n",
       "      <td>1.022570e+09</td>\n",
       "      <td>iphone 5s 32gb grey ibox tam ses trikomsel gar...</td>\n",
       "      <td>31.0</td>\n",
       "      <td>mobile_image</td>\n",
       "      <td>0003ae5382360f19c88e83bc3d13e93d.jpg</td>\n",
       "    </tr>\n",
       "    <tr>\n",
       "      <th>2</th>\n",
       "      <td>1.746034e+09</td>\n",
       "      <td>promo big sale mito a19 4g 5 lte 2 16gb ready ...</td>\n",
       "      <td>46.0</td>\n",
       "      <td>mobile_image</td>\n",
       "      <td>0004390752e0372ebe568d929d463837.jpg</td>\n",
       "    </tr>\n",
       "    <tr>\n",
       "      <th>3</th>\n",
       "      <td>1.258510e+09</td>\n",
       "      <td>flexible home tombol iphone 5s putih best seller</td>\n",
       "      <td>31.0</td>\n",
       "      <td>mobile_image</td>\n",
       "      <td>000445556b7323a60a2e8a0a7525d77a.jpg</td>\n",
       "    </tr>\n",
       "    <tr>\n",
       "      <th>4</th>\n",
       "      <td>9.785294e+08</td>\n",
       "      <td>microsoft surface pro 4 ci5 6300u 8gb 256gb ss...</td>\n",
       "      <td>35.0</td>\n",
       "      <td>mobile_image</td>\n",
       "      <td>000477490f1e24c1aa9933b88fad14f4.jpg</td>\n",
       "    </tr>\n",
       "  </tbody>\n",
       "</table>\n",
       "</div>"
      ],
      "text/plain": [
       "         itemid                                              title  Category  \\\n",
       "0  1.559229e+09  jika minat silahkan wa 0831 4044 8453 promo di...      31.0   \n",
       "1  1.022570e+09  iphone 5s 32gb grey ibox tam ses trikomsel gar...      31.0   \n",
       "2  1.746034e+09  promo big sale mito a19 4g 5 lte 2 16gb ready ...      46.0   \n",
       "3  1.258510e+09   flexible home tombol iphone 5s putih best seller      31.0   \n",
       "4  9.785294e+08  microsoft surface pro 4 ci5 6300u 8gb 256gb ss...      35.0   \n",
       "\n",
       "  Full Category                              Filename  \n",
       "0  mobile_image  00018defe03935e545929201b8eec50a.jpg  \n",
       "1  mobile_image  0003ae5382360f19c88e83bc3d13e93d.jpg  \n",
       "2  mobile_image  0004390752e0372ebe568d929d463837.jpg  \n",
       "3  mobile_image  000445556b7323a60a2e8a0a7525d77a.jpg  \n",
       "4  mobile_image  000477490f1e24c1aa9933b88fad14f4.jpg  "
      ]
     },
     "execution_count": 11,
     "metadata": {},
     "output_type": "execute_result"
    }
   ],
   "source": [
    "train_mobile.head()"
   ]
  },
  {
   "cell_type": "code",
   "execution_count": 12,
   "metadata": {},
   "outputs": [
    {
     "name": "stdout",
     "output_type": "stream",
     "text": [
      "<class 'pandas.core.frame.DataFrame'>\n",
      "Int64Index: 160330 entries, 0 to 160329\n",
      "Data columns (total 5 columns):\n",
      "itemid           160330 non-null float64\n",
      "title            160330 non-null object\n",
      "Category         160330 non-null int64\n",
      "Full Category    160330 non-null object\n",
      "Filename         160330 non-null object\n",
      "dtypes: float64(1), int64(1), object(3)\n",
      "memory usage: 7.3+ MB\n"
     ]
    },
    {
     "name": "stderr",
     "output_type": "stream",
     "text": [
      "/anaconda3/lib/python3.6/site-packages/ipykernel_launcher.py:1: SettingWithCopyWarning: \n",
      "A value is trying to be set on a copy of a slice from a DataFrame.\n",
      "Try using .loc[row_indexer,col_indexer] = value instead\n",
      "\n",
      "See the caveats in the documentation: http://pandas.pydata.org/pandas-docs/stable/indexing.html#indexing-view-versus-copy\n",
      "  \"\"\"Entry point for launching an IPython kernel.\n"
     ]
    }
   ],
   "source": [
    "train_mobile['Category'] = train_mobile.Category.astype('int')\n",
    "train_mobile.info()"
   ]
  },
  {
   "cell_type": "code",
   "execution_count": 13,
   "metadata": {},
   "outputs": [],
   "source": [
    "mobile_categories = train_mobile['Category'].unique()"
   ]
  },
  {
   "cell_type": "markdown",
   "metadata": {},
   "source": [
    "### Extracting the images  \n",
    "Here we do a for loop to extract the images into the destination folder for training."
   ]
  },
  {
   "cell_type": "code",
   "execution_count": 14,
   "metadata": {},
   "outputs": [
    {
     "name": "stderr",
     "output_type": "stream",
     "text": [
      "100%|██████████| 27/27 [1:30:50<00:00,  9.56s/it]   \n"
     ]
    }
   ],
   "source": [
    "for cat in tqdm(mobile_categories):\n",
    "    category = train_mobile[train_mobile.Category == cat]\n",
    "    category_pics=category['Filename'].tolist()\n",
    "    temp = '/Users/matthewhan/Desktop/NDSC/mobile_by_category/' + str(cat) \n",
    "    for pic in category_pics:\n",
    "        shutil.copy(pic, temp)"
   ]
  }
 ],
 "metadata": {
  "kernelspec": {
   "display_name": "Python 3",
   "language": "python",
   "name": "python3"
  },
  "language_info": {
   "codemirror_mode": {
    "name": "ipython",
    "version": 3
   },
   "file_extension": ".py",
   "mimetype": "text/x-python",
   "name": "python",
   "nbconvert_exporter": "python",
   "pygments_lexer": "ipython3",
   "version": "3.6.8"
  }
 },
 "nbformat": 4,
 "nbformat_minor": 2
}
